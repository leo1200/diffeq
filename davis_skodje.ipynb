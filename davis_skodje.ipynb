{
 "cells": [
  {
   "attachments": {},
   "cell_type": "markdown",
   "metadata": {},
   "source": [
    "# Numerically Solving the Davis-Skodje Equation"
   ]
  },
  {
   "attachments": {},
   "cell_type": "markdown",
   "metadata": {},
   "source": [
    "## Imports"
   ]
  },
  {
   "cell_type": "code",
   "execution_count": 8,
   "metadata": {},
   "outputs": [
    {
     "name": "stderr",
     "output_type": "stream",
     "text": [
      "\u001b[32m\u001b[1m    Updating\u001b[22m\u001b[39m registry at `C:\\Users\\leona\\.julia\\registries\\General.toml`\n"
     ]
    },
    {
     "name": "stderr",
     "output_type": "stream",
     "text": [
      "\u001b[32m\u001b[1m   Resolving\u001b[22m\u001b[39m package versions...\n"
     ]
    },
    {
     "name": "stderr",
     "output_type": "stream",
     "text": [
      "\u001b[32m\u001b[1m    Updating\u001b[22m\u001b[39m `C:\\Users\\leona\\.julia\\environments\\v1.9\\Project.toml`\n",
      "  \u001b[90m[5c1252a2] \u001b[39m\u001b[92m+ GeometryBasics v0.4.9\u001b[39m\n",
      "\u001b[32m\u001b[1m  No Changes\u001b[22m\u001b[39m to `C:\\Users\\leona\\.julia\\environments\\v1.9\\Manifest.toml`\n"
     ]
    }
   ],
   "source": [
    "# Mathematical tools\n",
    "using LinearAlgebra\n",
    "using DifferentialEquations\n",
    "using GeometryBasics\n",
    "using ForwardDiff\n",
    "\n",
    "\n",
    "# General tools\n",
    "using BenchmarkTools\n",
    "\n",
    "# Plotting\n",
    "using Colors, ColorSchemes\n",
    "using CairoMakie\n",
    "# Use CairoMakie with SVG output\n",
    "CairoMakie.activate!(type = \"svg\")"
   ]
  },
  {
   "attachments": {},
   "cell_type": "markdown",
   "metadata": {},
   "source": [
    "## Davis-Skodje-Equation"
   ]
  },
  {
   "cell_type": "code",
   "execution_count": 2,
   "metadata": {},
   "outputs": [
    {
     "data": {
      "text/plain": [
       "wdavis_skodje! (generic function with 1 method)"
      ]
     },
     "metadata": {},
     "output_type": "display_data"
    }
   ],
   "source": [
    "function davis_skodje!(du, u, gamma, t)\n",
    "    du[1] = -u[1]\n",
    "    du[2] = -gamma * u[2] + ((gamma - 1) * u[1] + gamma * u[1]^2) / (1 + u[1]^2)\n",
    "end\n",
    "\n",
    "function wdavis_skodje!(du, u)\n",
    "    gamma = 40\n",
    "    du[1] = -u[1]\n",
    "    du[2] = -gamma * u[2] + ((gamma - 1) * u[1] + gamma * u[1]^2) / (1 + u[1]^2)\n",
    "end"
   ]
  },
  {
   "attachments": {},
   "cell_type": "markdown",
   "metadata": {},
   "source": [
    "## Plot functionality"
   ]
  },
  {
   "cell_type": "code",
   "execution_count": 3,
   "metadata": {},
   "outputs": [
    {
     "data": {
      "text/plain": [
       "plot_skodje (generic function with 1 method)"
      ]
     },
     "metadata": {},
     "output_type": "display_data"
    }
   ],
   "source": [
    "function plot_skodje(ax, gamma)\n",
    "    dsk(u) = Point2f(\n",
    "        -u[1],\n",
    "        -gamma * u[2] + ((gamma - 1) * u[1] + gamma * u[1]^2) / (1 + u[1]^2)\n",
    "    )\n",
    "    streamplot!(dsk, 0..4, 0..2, colormap = :magma, ax = ax)\n",
    "end"
   ]
  },
  {
   "cell_type": "code",
   "execution_count": 4,
   "metadata": {},
   "outputs": [
    {
     "data": {
      "text/plain": [
       "implicit_euler (generic function with 1 method)"
      ]
     },
     "metadata": {},
     "output_type": "display_data"
    }
   ],
   "source": [
    "function euler(f, u0, dt, num_steps, gamma)\n",
    "    \"\"\"\n",
    "    Explicit Euler method for solving an ODE.\n",
    "    \"\"\"\n",
    "    # Initialize array to store solution\n",
    "    u = zeros(length(u0), num_steps)\n",
    "    u[:, 1] .= u0\n",
    "    # Initialize derivative\n",
    "    du = zeros(size(u0))\n",
    "    for i in 2:num_steps\n",
    "        # Compute derivative\n",
    "        f(du, u[:, i - 1], gamma, 0)\n",
    "        # Update solution\n",
    "        u[:, i] .= u[:, i - 1] + dt * du\n",
    "    end\n",
    "    return u\n",
    "end\n",
    "\n",
    "function implicit_euler(f, u0, dt, num_steps, gamma)\n",
    "    # Initialize array to store solution\n",
    "    u = zeros(length(u0), num_steps)\n",
    "    all_step_history = []\n",
    "    u[:, 1] .= u0\n",
    "    # Initialize jacobian\n",
    "    for i in 2:num_steps\n",
    "        u[:, i] = u[:, i - 1]\n",
    "        for j in 1:20\n",
    "            # Compute Jacobian\n",
    "            du0 = zeros(size(u0))\n",
    "            J = ForwardDiff.jacobian(f, du0, u[:, i])\n",
    "            G = I - dt * J\n",
    "            GF = factorize(G)\n",
    "            f(du0, u[:, i])\n",
    "            g_zero = u[:, i] - u[:, i - 1] - dt * du0\n",
    "            u[:, i] = u[:, i] - GF \\ g_zero\n",
    "            # all step history, for plotting\n",
    "            push!(all_step_history, u[:, i])\n",
    "            if norm(g_zero) < 1e-3\n",
    "                break\n",
    "            end\n",
    "        end\n",
    "    end\n",
    "    return u, reduce(hcat, all_step_history)\n",
    "end"
   ]
  },
  {
   "cell_type": "code",
   "execution_count": 5,
   "metadata": {},
   "outputs": [
    {
     "ename": "UndefVarError",
     "evalue": "UndefVarError: `ForwardDiff` not defined",
     "output_type": "error",
     "traceback": [
      "UndefVarError: `ForwardDiff` not defined\n",
      "\n",
      "Stacktrace:\n",
      " [1] implicit_euler(f::typeof(wdavis_skodje!), u0::Vector{Int64}, dt::Float64, num_steps::Int64, gamma::Int64)\n",
      "   @ Main c:\\Users\\leona\\OneDrive\\Dokumente\\Studium\\Master\\2. Semester\\Scientific Machine Learning\\Code\\davis_skodje.ipynb:30\n",
      " [2] top-level scope\n",
      "   @ c:\\Users\\leona\\OneDrive\\Dokumente\\Studium\\Master\\2. Semester\\Scientific Machine Learning\\Code\\davis_skodje.ipynb:11"
     ]
    }
   ],
   "source": [
    "u0 = [4, 0]\n",
    "gamma = 40\n",
    "tspan = (0.0, 5)\n",
    "prob = ODEProblem(davis_skodje!, u0, tspan, gamma, saveat = 0.1)\n",
    "sol = solve(prob)\n",
    "rsol = reduce(hcat,sol.u)\n",
    "# print(sol.destats)\n",
    "# println(sol.alg) # uses stiff method\n",
    "\n",
    "sol_euler = euler(davis_skodje!, u0, 0.049, 100, gamma)\n",
    "sol_imp_euler, all_step_history = implicit_euler(wdavis_skodje!, u0, 0.4, 100, gamma)\n",
    "\n",
    "f = Figure(fontsize = 20)\n",
    "ax = Axis(f[1, 1], xlabel = L\"u_1\", ylabel = L\"u_2\", title = \"Stream plot of the Davis-Skodje equation\", xlabelsize = 40, ylabelsize = 40)\n",
    "\n",
    "plot_skodje(ax, gamma)\n",
    "lines!(sol_imp_euler[1, :], sol_imp_euler[2, :], color= :royalblue3, linewidth = 4, linestyle = :dash)\n",
    "plot!(sol_imp_euler[1, :], sol_imp_euler[2, :], color= :royalblue3, markersize = 20, label = \"Implicit Euler, dt = 0.4\")\n",
    "# lines!(sol_euler[1, :], sol_euler[2, :], color = :indianred, markersize = 20, linestyle = :dash, alpha = 0.1)\n",
    "# plot!(sol_euler[1, :], sol_euler[2, :], color = :indianred, markersize = 20, label = \"Explicit Euler, dt = 0.049\", alpha = 0.1)\n",
    "# plot all_step_history\n",
    "plot!(all_step_history[1, :], all_step_history[2, :], color = :deeppink3, markersize = 10, linestyle = :dash, alpha = 0.1, label = \"Newton iteration steps\")\n",
    "axislegend(ax, merge = true, unique = true)\n",
    "xlims!(0, 4)\n",
    "ylims!(0, 2)\n",
    "\n",
    "save(\"davis_skodje2.svg\", f)"
   ]
  },
  {
   "cell_type": "code",
   "execution_count": 6,
   "metadata": {},
   "outputs": [
    {
     "ename": "UndefVarError",
     "evalue": "UndefVarError: `f` not defined",
     "output_type": "error",
     "traceback": [
      "UndefVarError: `f` not defined\n",
      "\n",
      "Stacktrace:\n",
      " [1] top-level scope\n",
      "   @ c:\\Users\\leona\\OneDrive\\Dokumente\\Studium\\Master\\2. Semester\\Scientific Machine Learning\\Code\\davis_skodje.ipynb:1"
     ]
    }
   ],
   "source": [
    "display(f)"
   ]
  }
 ],
 "metadata": {
  "kernelspec": {
   "display_name": "Julia 1.9.0",
   "language": "julia",
   "name": "julia-1.9"
  },
  "language_info": {
   "file_extension": ".jl",
   "mimetype": "application/julia",
   "name": "julia",
   "version": "1.9.0"
  },
  "orig_nbformat": 4
 },
 "nbformat": 4,
 "nbformat_minor": 2
}
